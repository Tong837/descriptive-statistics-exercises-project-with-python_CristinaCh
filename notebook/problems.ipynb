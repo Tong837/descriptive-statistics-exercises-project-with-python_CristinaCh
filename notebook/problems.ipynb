{
    "cells": [
        {
            "cell_type": "markdown",
            "id": "ac622319",
            "metadata": {},
            "source": [
                "# Descriptive statistics problems"
            ]
        },
        {
            "cell_type": "markdown",
            "id": "5e0ab0d5",
            "metadata": {},
            "source": [
                "### Exercise 1\n",
                "\n",
                "We will use NumPy to obtain information to describe statistically.\n",
                "\n",
                "- Generate an array of 100 elements following a normal distribution.\n",
                "- Generate an array of 100 elements following a chi-square distribution with 3 degrees of freedom.\n",
                "- Calculate the main metrics and statistical measures that best describe the two vectors."
            ]
        },
        {
            "cell_type": "code",
            "execution_count": null,
            "id": "34720ab6",
            "metadata": {},
            "outputs": [],
            "source": [
                "# TODO\n",
                "\n",
                "import numpy as np\n",
                "import statistics as stats\n",
                "\n",
                "np.random.seed(33)\n",
                "\n",
                "#Generar la data de normal y chisquare a partir de random.seed\n",
                "normal = np.random.normal(size=100)\n",
                "chi=np.random.chisquare(df=3,size=100)\n",
                "\n",
                "#Métricas \n",
                "#Mean:\n",
                "print(f\"Normal mean: {stats.mean(normal)}\\n\")\n",
                "print(f\"Chi-square mean: {stats.mean(chi)}\")\n",
                "\n",
                "#Median:\n",
                "print(f\"Normal median: {stats.median(normal)}\\n\")\n",
                "print(f\"Chi median: {stats.median(chi)}\")\n",
                "\n",
                "#Mode\n",
                "print(f\"Normal mode: {stats.mode(normal)}\\n\")\n",
                "print(f\"Chi mode: {stats.mode(chi)}\")\n",
                "\n",
                "#Mesure of dispersion by range:\n",
                "range_normal = max(normal) - min(normal)\n",
                "range_chi = max(chi) - min(chi)\n",
                "print(f\"Normal range: {range_normal}\\n\")\n",
                "print(f\"Normal chi: {range_chi}\")\n",
                "\n",
                "#Mesure of dispersion by Variance and Standard deviation:\n",
                "var_normal = stats.variance(normal)\n",
                "std_normal = stats.stdev(normal)\n",
                "var_chi = stats.variance(chi)\n",
                "std_chi = stats.stdev(chi)\n",
                "\n",
                "print(f\"Normal variance: {var_normal} and std: {std_normal}\\n\")\n",
                "print(f\"Chi variance: {var_chi} and std: {std_chi}\")\n",
                "\n",
                "#Shape measures by Skewness:\n",
                "from scipy.stats import skew\n",
                "\n",
                "skew_normal = skew(normal)\n",
                "skew_chi = skew(chi)\n",
                "\n",
                "print(f\"Normal skewness: {skew_normal}\\n\")\n",
                "print(f\"Chi skewness: {skew_chi}\")\n",
                "\n",
                "#Shape measures by Kurtosis:\n",
                "\n",
                "from scipy.stats import kurtosis\n",
                "\n",
                "kurt_normal = kurtosis(normal)\n",
                "kurt_chi = kurtosis(chi)\n",
                "\n",
                "print(f\"Normal kurtosis: {kurt_normal}\\n\")\n",
                "print(f\"Chi kurtosis: {kurt_chi}\")"
            ]
        },
        {
            "cell_type": "markdown",
            "id": "46c70c3d",
            "metadata": {},
            "source": [
                "### Exercise 2\n",
                "\n",
                "Write a Python program to calculate the standard deviation of the following data:\n",
                "\n",
                "```py\n",
                "data = [4, 2, 5, 8, 6]\n",
                "```"
            ]
        },
        {
            "cell_type": "code",
            "execution_count": null,
            "id": "d590308e",
            "metadata": {},
            "outputs": [],
            "source": [
                "# TODO\n",
                "import numpy as np\n",
                "import statistics as stats\n",
                "import math\n",
                "import sys\n",
                "\n",
                "'''std_normal = stats.stdev(normal)\n",
                "std_chi = stats.stdev(chi)\n",
                "\n",
                "print(f\"Normal variance: {var_normal} and std: {std_normal}\")\n",
                "print(f\"Chi variance: {var_chi} and std: {std_chi}\")'''\n",
                "\n",
                "data = [4, 2, 5, 8, 6]\n",
                "\n",
                "def average_calc(data):\n",
                "    nums_calculo = len(data)\n",
                "    mean = 0.0\n",
                "    print(nums_calculo)\n",
                "\n",
                "def std_calculo(data):\n",
                "    nums_calculo = len(data)\n",
                "\n",
                "\n",
                "    if (nums_calculo<=1):\n",
                "        return 0.0\n",
                "\n",
                "    mean = average_calc(data)\n",
                "    sd =  0.0\n",
                "\n",
                "\n",
                "\n",
                "'''STD no tendría sentido calcularlo si en nums_calculo  solo tenemos un valor o zero\n",
                "ya que con un solo numero no podriamos encontrar una dispersión o variabilidad ya que \n",
                "no tenemos un conjunto de datos y no opdriamos comparar el valor con ningún otro,\n",
                "por eso filtramos la data a través de un condicional\n",
                "'''"
            ]
        }
    ],
    "metadata": {
        "interpreter": {
            "hash": "9248718ffe6ce6938b217e69dbcc175ea21f4c6b28a317e96c05334edae734bb"
        },
        "kernelspec": {
            "display_name": "Python 3.9.12 ('ML-BOOTCAMP')",
            "language": "python",
            "name": "python3"
        },
        "language_info": {
            "codemirror_mode": {
                "name": "ipython",
                "version": 3
            },
            "file_extension": ".py",
            "mimetype": "text/x-python",
            "name": "python",
            "nbconvert_exporter": "python",
            "pygments_lexer": "ipython3",
            "version": "3.11.4"
        }
    },
    "nbformat": 4,
    "nbformat_minor": 5
}
