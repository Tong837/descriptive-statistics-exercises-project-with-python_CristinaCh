{
    "cells": [
        {
            "cell_type": "markdown",
            "id": "ac622319",
            "metadata": {},
            "source": [
                "# Descriptive statistics problems"
            ]
        },
        {
            "cell_type": "markdown",
            "id": "5e0ab0d5",
            "metadata": {},
            "source": [
                "### Exercise 1\n",
                "\n",
                "We will use NumPy to obtain information to describe statistically.\n",
                "\n",
                "- Generate an array of 100 elements following a normal distribution.\n",
                "- Generate an array of 100 elements following a chi-square distribution with 3 degrees of freedom.\n",
                "- Calculate the main metrics and statistical measures that best describe the two vectors."
            ]
        },
        {
            "cell_type": "code",
            "execution_count": null,
            "id": "34720ab6",
            "metadata": {},
            "outputs": [
                {
                    "name": "stdout",
                    "output_type": "stream",
                    "text": [
                        "Normal mean: -0.03808917088732798\n",
                        "\n",
                        "Chi-square mean: 3.176934118637601\n",
                        "Normal median: -0.10408776133999278\n",
                        "\n",
                        "Chi median: 2.690408977789454\n",
                        "Normal mode: -0.3188535051081303\n",
                        "\n",
                        "Chi mode: 2.6743105040466455\n",
                        "Normal range: 5.6306739295194355\n",
                        "\n",
                        "Normal chi: 23.16912861229122\n",
                        "Normal variance: 1.0742201342991908 and std: 1.0364459147969038\n",
                        "\n",
                        "Chi variance: 8.271527751915169 and std: 2.8760263823399064\n",
                        "Normal skewness: 0.0714861257422756\n",
                        "\n",
                        "Chi skewness: 3.6525207808287257\n",
                        "Normal kurtosis: -0.08631906909485432\n",
                        "\n",
                        "Chi kurtosis: 22.14368742202338\n"
                    ]
                }
            ],
            "source": [
                "# TODO\n",
                "\n",
                "import numpy as np\n",
                "import statistics as stats\n",
                "\n",
                "np.random.seed(33)\n",
                "\n",
                "#Generar la data de normal y chisquare a partir de random.seed\n",
                "normal = np.random.normal(size=100)\n",
                "chi=np.random.chisquare(df=3,size=100)\n",
                "\n",
                "#Métricas \n",
                "#Mean:\n",
                "print(f\"Normal mean: {stats.mean(normal)}\\n\")\n",
                "print(f\"Chi-square mean: {stats.mean(chi)}\")\n",
                "\n",
                "#Median:\n",
                "print(f\"Normal median: {stats.median(normal)}\\n\")\n",
                "print(f\"Chi median: {stats.median(chi)}\")\n",
                "\n",
                "#Mode\n",
                "print(f\"Normal mode: {stats.mode(normal)}\\n\")\n",
                "print(f\"Chi mode: {stats.mode(chi)}\")\n",
                "\n",
                "#Mesure of dispersion by range:\n",
                "range_normal = max(normal) - min(normal)\n",
                "range_chi = max(chi) - min(chi)\n",
                "\n",
                "print(f\"Normal range: {range_normal}\\n\")\n",
                "print(f\"Normal chi: {range_chi}\")\n",
                "\n",
                "#Mesure of dispersion by Variance and Standard deviation:\n",
                "var_normal = stats.variance(normal)\n",
                "std_normal = stats.stdev(normal)\n",
                "var_chi = stats.variance(chi)\n",
                "std_chi = stats.stdev(chi)\n",
                "\n",
                "print(f\"Normal variance: {var_normal} and std: {std_normal}\\n\")\n",
                "print(f\"Chi variance: {var_chi} and std: {std_chi}\")\n",
                "\n",
                "#Shape measures by Skewness:\n",
                "from scipy.stats import skew\n",
                "\n",
                "skew_normal = skew(normal)\n",
                "skew_chi = skew(chi)\n",
                "\n",
                "print(f\"Normal skewness: {skew_normal}\\n\")\n",
                "print(f\"Chi skewness: {skew_chi}\")\n",
                "\n",
                "#Shape measures by Kurtosis:\n",
                "from scipy.stats import kurtosis\n",
                "\n",
                "kurt_normal = kurtosis(normal)\n",
                "kurt_chi = kurtosis(chi)\n",
                "\n",
                "print(f\"Normal kurtosis: {kurt_normal}\\n\")\n",
                "print(f\"Chi kurtosis: {kurt_chi}\")"
            ]
        },
        {
            "cell_type": "markdown",
            "id": "46c70c3d",
            "metadata": {},
            "source": [
                "### Exercise 2\n",
                "\n",
                "Write a Python program to calculate the standard deviation of the following data:\n",
                "\n",
                "```py\n",
                "data = [4, 2, 5, 8, 6]\n",
                "```"
            ]
        },
        {
            "cell_type": "code",
            "execution_count": null,
            "id": "d590308e",
            "metadata": {},
            "outputs": [
                {
                    "name": "stdout",
                    "output_type": "stream",
                    "text": [
                        "Sample Data: [4, 2, 5, 8, 6]\n",
                        "Standard Deviation: 2.23606797749979\n"
                    ]
                }
            ],
            "source": [
                "# TODO\n",
                "import numpy as np\n",
                "import statistics as stats\n",
                "import math\n",
                "import sys\n",
                "\n",
                "data = [4, 2, 5, 8, 6]\n",
                "\n",
                "def calc_elements_mean(data):\n",
                "    n_elements_list= len(data)\n",
                "    mean = 0.0\n",
                "   \n",
                "    if (n_elements_list<=1):\n",
                "        return data[0]\n",
                " \n",
                "    for datos in data:\n",
                "        mean = mean + float(datos)\n",
                "#calculo de la media\n",
                "    mean = mean / float(n_elements_list)\n",
                "    return mean\n",
                "\n",
                "\n",
                "#Desviación Estándar\n",
                "def std_calc(data):\n",
                "    n_elements_list = len(data)\n",
                "\n",
                "\n",
                "    if (n_elements_list<=1):\n",
                "        return 0.0\n",
                "    mean = calc_elements_mean(data)\n",
                "    std =  0.0\n",
                "\n",
                " #Cálculo de la diferencia de cada dato respecto a la media y cuadrado de la diferencia(**2)\n",
                "    for datos in data:\n",
                "        #Suma/cúmulo del resultado en cada iteración el cálculo \n",
                "        std += (float(datos) - mean) ** 2\n",
                "        \n",
                "    #FORMULA DE LA DESVIACIÓN ESTÁNDAR MUESTRAL\n",
                "    #Eleva al cuadrado con método .sqrt(square root) \n",
                "    # (n_elements_list-1) -> Corrección de Bessel \n",
                "    std = math.sqrt(std / float(n_elements_list - 1))\n",
                "    return std\n",
                "\n",
                "data = [4, 2, 5, 8, 6]\n",
                "print(f\"Sample Data: {data}\")\n",
                "print(f\"Standard Deviation: {std_calc(data)}\")"
            ]
        }
    ],
    "metadata": {
        "kernelspec": {
            "display_name": "Python 3",
            "language": "python",
            "name": "python3"
        },
        "language_info": {
            "codemirror_mode": {
                "name": "ipython",
                "version": 3
            },
            "file_extension": ".py",
            "mimetype": "text/x-python",
            "name": "python",
            "nbconvert_exporter": "python",
            "pygments_lexer": "ipython3",
            "version": "3.11.4"
        }
    },
    "nbformat": 4,
    "nbformat_minor": 5
}
